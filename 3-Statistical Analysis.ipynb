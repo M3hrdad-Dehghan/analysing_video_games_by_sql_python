{
 "cells": [
  {
   "cell_type": "markdown",
   "metadata": {},
   "source": [
    "### **Make Connection Between Python and SQL Server**"
   ]
  },
  {
   "cell_type": "code",
   "execution_count": 1,
   "metadata": {},
   "outputs": [],
   "source": [
    "import pyodbc\n",
    "import pandas as pd \n",
    "import warnings \n",
    "warnings.filterwarnings(\"ignore\")\n",
    "\n",
    "conn_str = (\n",
    "    \"DRIVER={ODBC Driver 17 for SQL Server};\"  \n",
    "    \"SERVER=MEHRDAD;\"\n",
    "    \"DATABASE=Games;\" \n",
    "    \"Trusted_Connection=yes;\"  \n",
    ")\n",
    "\n",
    "connection = pyodbc.connect(conn_str)"
   ]
  },
  {
   "cell_type": "markdown",
   "metadata": {},
   "source": [
    "### **More insights about Query 1: Most Expensive Games**"
   ]
  },
  {
   "cell_type": "code",
   "execution_count": null,
   "metadata": {},
   "outputs": [],
   "source": [
    "# Convert query to dataframe\n",
    "\n",
    "query = \"\"\"\n",
    "SELECT\n",
    "    VG.Genre, PL.NickName, SUM(PR.Price) AS \"Total Price\"\n",
    "FROM [dbo].[VideoGames] VG\n",
    "    JOIN [dbo].[Price] PR ON VG.GameID = PR.GameID\n",
    "    JOIN [dbo].[Purchase_Games] PG ON PG.GameID = VG.GameID\n",
    "    JOIN [dbo].[Players] PL ON PL.PlayerID = PG.PlayerID\n",
    "GROUP BY VG.Genre, PL.NickName\n",
    "ORDER BY SUM(PR.Price) DESC\n",
    "\"\"\"\n",
    "\n",
    "df = pd.read_sql(query, connection)"
   ]
  },
  {
   "cell_type": "code",
   "execution_count": null,
   "metadata": {},
   "outputs": [
    {
     "data": {
      "application/vnd.microsoft.datawrangler.viewer.v0+json": {
       "columns": [
        {
         "name": "index",
         "rawType": "int64",
         "type": "integer"
        },
        {
         "name": "Genre",
         "rawType": "object",
         "type": "string"
        },
        {
         "name": "NickName",
         "rawType": "object",
         "type": "string"
        },
        {
         "name": "Total Price",
         "rawType": "float64",
         "type": "float"
        }
       ],
       "conversionMethod": "pd.DataFrame",
       "ref": "eaa80910-79e3-4e7e-88f7-800eb6c6034a",
       "rows": [
        [
         "0",
         "Visual Novel",
         "Unsocial_Shadow",
         "11720.63"
        ],
        [
         "1",
         "Adventure",
         "diabolvs_pl",
         "11363.63"
        ],
        [
         "2",
         "Adventure",
         "BwhoUwannaB",
         "9874.34"
        ],
        [
         "3",
         "Adventure",
         "fograid",
         "9607.52"
        ],
        [
         "4",
         "Adventure",
         "Koenig_Arne",
         "9482.68"
        ],
        [
         "5",
         "Adventure",
         "Alepit",
         "9447.54"
        ],
        [
         "6",
         "Adventure",
         "kukuman53",
         "8736.92"
        ],
        [
         "7",
         "Indie",
         "diabolvs_pl",
         "8685.91"
        ],
        [
         "8",
         "Adventure",
         "BanAnER_pH0N3",
         "8618.61"
        ],
        [
         "9",
         "Action",
         "Duff85",
         "8335.78"
        ],
        [
         "10",
         "Indie",
         "SeobangKim",
         "8285.7"
        ],
        [
         "11",
         "Adventure",
         "Mathisia01",
         "8231.73"
        ],
        [
         "12",
         "Adventure",
         "Bizzy_Montana_",
         "8115.53"
        ],
        [
         "13",
         "Adventure",
         "xLukk",
         "8108.11"
        ],
        [
         "14",
         "Adventure",
         "GizMo_The_Great",
         "8101.05"
        ],
        [
         "15",
         "Adventure",
         "Nightsaber",
         "8068.88"
        ],
        [
         "16",
         "Visual Novel",
         "biscuits313",
         "8014.38"
        ],
        [
         "17",
         "Indie",
         "oojan",
         "7969.53"
        ],
        [
         "18",
         "Adventure",
         "Halon_50",
         "7731.97"
        ],
        [
         "19",
         "Indie",
         "Chef_McM",
         "7667.52"
        ],
        [
         "20",
         "Adventure",
         "thebigTZ",
         "7454.28"
        ],
        [
         "21",
         "Adventure",
         "DER-TIMSTER",
         "7439.9"
        ],
        [
         "22",
         "Adventure",
         "Alkeye82",
         "7437.69"
        ],
        [
         "23",
         "Adventure",
         "Bamsibams",
         "7222.61"
        ],
        [
         "24",
         "Adventure",
         "Dark_Knightmare2",
         "7165.94"
        ],
        [
         "25",
         "Adventure",
         "SuzuDream",
         "7153.65"
        ],
        [
         "26",
         "Action",
         "dkssj4",
         "7064.73"
        ],
        [
         "27",
         "Adventure",
         "slappymg",
         "7056.51"
        ],
        [
         "28",
         "Adventure",
         "Hemming87",
         "7052.8"
        ],
        [
         "29",
         "Adventure",
         "oojan",
         "7049.36"
        ],
        [
         "30",
         "Adventure",
         "ybaBananaB",
         "7048.9"
        ],
        [
         "31",
         "Adventure",
         "BestiaNegra1985",
         "6979.74"
        ],
        [
         "32",
         "Action",
         "Drake_Espartano",
         "6893.65"
        ],
        [
         "33",
         "Adventure",
         "sioannid",
         "6887.57"
        ],
        [
         "34",
         "Action",
         "chebz",
         "6869.31"
        ],
        [
         "35",
         "Adventure",
         "breathofwater",
         "6820.57"
        ],
        [
         "36",
         "Action",
         "BestiaNegra1985",
         "6811.13"
        ],
        [
         "37",
         "Adventure",
         "biscuits313",
         "6805.0"
        ],
        [
         "38",
         "Action",
         "schouterden",
         "6771.94"
        ],
        [
         "39",
         "Adventure",
         "fred101",
         "6732.6"
        ],
        [
         "40",
         "Adventure",
         "Olex94",
         "6700.26"
        ],
        [
         "41",
         "Action",
         "zenovka",
         "6688.42"
        ],
        [
         "42",
         "Action",
         "JeanChoy",
         "6687.59"
        ],
        [
         "43",
         "Adventure",
         "fredericbalsamo",
         "6673.9"
        ],
        [
         "44",
         "Action",
         "ULTRAGUARDIAN",
         "6656.79"
        ],
        [
         "45",
         "Action",
         "I---V6---I",
         "6625.08"
        ],
        [
         "46",
         "Adventure",
         "Barryoko",
         "6621.25"
        ],
        [
         "47",
         "Indie",
         "Crisalex77",
         "6607.74"
        ],
        [
         "48",
         "Action",
         "diabolvs_pl",
         "6591.02"
        ],
        [
         "49",
         "Action",
         "dariuszfalek",
         "6580.91"
        ]
       ],
       "shape": {
        "columns": 3,
        "rows": 2626198
       }
      },
      "text/html": [
       "<div>\n",
       "<style scoped>\n",
       "    .dataframe tbody tr th:only-of-type {\n",
       "        vertical-align: middle;\n",
       "    }\n",
       "\n",
       "    .dataframe tbody tr th {\n",
       "        vertical-align: top;\n",
       "    }\n",
       "\n",
       "    .dataframe thead th {\n",
       "        text-align: right;\n",
       "    }\n",
       "</style>\n",
       "<table border=\"1\" class=\"dataframe\">\n",
       "  <thead>\n",
       "    <tr style=\"text-align: right;\">\n",
       "      <th></th>\n",
       "      <th>Genre</th>\n",
       "      <th>NickName</th>\n",
       "      <th>Total Price</th>\n",
       "    </tr>\n",
       "  </thead>\n",
       "  <tbody>\n",
       "    <tr>\n",
       "      <th>0</th>\n",
       "      <td>Visual Novel</td>\n",
       "      <td>Unsocial_Shadow</td>\n",
       "      <td>11720.63</td>\n",
       "    </tr>\n",
       "    <tr>\n",
       "      <th>1</th>\n",
       "      <td>Adventure</td>\n",
       "      <td>diabolvs_pl</td>\n",
       "      <td>11363.63</td>\n",
       "    </tr>\n",
       "    <tr>\n",
       "      <th>2</th>\n",
       "      <td>Adventure</td>\n",
       "      <td>BwhoUwannaB</td>\n",
       "      <td>9874.34</td>\n",
       "    </tr>\n",
       "    <tr>\n",
       "      <th>3</th>\n",
       "      <td>Adventure</td>\n",
       "      <td>fograid</td>\n",
       "      <td>9607.52</td>\n",
       "    </tr>\n",
       "    <tr>\n",
       "      <th>4</th>\n",
       "      <td>Adventure</td>\n",
       "      <td>Koenig_Arne</td>\n",
       "      <td>9482.68</td>\n",
       "    </tr>\n",
       "    <tr>\n",
       "      <th>...</th>\n",
       "      <td>...</td>\n",
       "      <td>...</td>\n",
       "      <td>...</td>\n",
       "    </tr>\n",
       "    <tr>\n",
       "      <th>2626193</th>\n",
       "      <td>Puzzle | Platformer</td>\n",
       "      <td>PATA_333_AR</td>\n",
       "      <td>0.98</td>\n",
       "    </tr>\n",
       "    <tr>\n",
       "      <th>2626194</th>\n",
       "      <td>First Person Shooter | Platformer</td>\n",
       "      <td>OfficerGigaChad</td>\n",
       "      <td>0.98</td>\n",
       "    </tr>\n",
       "    <tr>\n",
       "      <th>2626195</th>\n",
       "      <td>Visual Novel</td>\n",
       "      <td>Spyderskorpian</td>\n",
       "      <td>0.98</td>\n",
       "    </tr>\n",
       "    <tr>\n",
       "      <th>2626196</th>\n",
       "      <td>Third Person Shooter</td>\n",
       "      <td>noWay_Matth</td>\n",
       "      <td>0.98</td>\n",
       "    </tr>\n",
       "    <tr>\n",
       "      <th>2626197</th>\n",
       "      <td>Visual Novel</td>\n",
       "      <td>juanluisp68</td>\n",
       "      <td>0.98</td>\n",
       "    </tr>\n",
       "  </tbody>\n",
       "</table>\n",
       "<p>2626198 rows × 3 columns</p>\n",
       "</div>"
      ],
      "text/plain": [
       "                                     Genre         NickName  Total Price\n",
       "0                             Visual Novel  Unsocial_Shadow     11720.63\n",
       "1                                Adventure      diabolvs_pl     11363.63\n",
       "2                                Adventure      BwhoUwannaB      9874.34\n",
       "3                                Adventure          fograid      9607.52\n",
       "4                                Adventure      Koenig_Arne      9482.68\n",
       "...                                    ...              ...          ...\n",
       "2626193                Puzzle | Platformer      PATA_333_AR         0.98\n",
       "2626194  First Person Shooter | Platformer  OfficerGigaChad         0.98\n",
       "2626195                       Visual Novel   Spyderskorpian         0.98\n",
       "2626196               Third Person Shooter      noWay_Matth         0.98\n",
       "2626197                       Visual Novel      juanluisp68         0.98\n",
       "\n",
       "[2626198 rows x 3 columns]"
      ]
     },
     "execution_count": 5,
     "metadata": {},
     "output_type": "execute_result"
    }
   ],
   "source": [
    "# Look at dataframe\n",
    "df"
   ]
  },
  {
   "cell_type": "markdown",
   "metadata": {},
   "source": [
    "Now, we see top 10 genres based on price in a bar chart"
   ]
  },
  {
   "cell_type": "code",
   "execution_count": null,
   "metadata": {},
   "outputs": [
    {
     "data": {
      "image/png": "[encoded data removed]",
      "text/plain": [
       "<Figure size 1200x600 with 1 Axes>"
      ]
     },
     "metadata": {},
     "output_type": "display_data"
    }
   ],
   "source": [
    "import matplotlib.pyplot as plt\n",
    "import seaborn as sns\n",
    "\n",
    "df_genre_price = df.groupby(\"Genre\", as_index=False)[\"Total Price\"].sum()\n",
    "df_top10 = df_genre_price.sort_values(by=\"Total Price\", ascending=False).head(10)\n",
    "\n",
    "plt.figure(figsize=(12, 6))\n",
    "sns.barplot(data=df_top10, x=\"Genre\", y=\"Total Price\", palette=\"viridis\")\n",
    "plt.xticks(rotation=45)\n",
    "plt.xlabel(\"Game Genre\")\n",
    "plt.ylabel(\"Total Price (Total Sales per Genre)\")\n",
    "plt.title(\"Top 10 Game Genres by Total Spending\")\n",
    "plt.show()\n"
   ]
  },
  {
   "cell_type": "markdown",
   "metadata": {},
   "source": [
    "Now, we can test whether there is any relationship between genre and price or not."
   ]
  },
  {
   "cell_type": "code",
   "execution_count": 8,
   "metadata": {},
   "outputs": [
    {
     "name": "stdout",
     "output_type": "stream",
     "text": [
      "ANOVA Test p-value: 0.0\n"
     ]
    }
   ],
   "source": [
    "from scipy.stats import f_oneway\n",
    "\n",
    "genre_groups = [df[df[\"Genre\"] == g][\"Total Price\"] for g in df[\"Genre\"].unique()]\n",
    "stat, p_value = f_oneway(*genre_groups)\n",
    "\n",
    "print(\"ANOVA Test p-value:\", p_value)"
   ]
  },
  {
   "cell_type": "markdown",
   "metadata": {},
   "source": [
    "Since, p-value is less than 0.05, we reject H0 and it means genre impact and price are related to each other."
   ]
  },
  {
   "cell_type": "markdown",
   "metadata": {},
   "source": [
    "<hr>"
   ]
  },
  {
   "cell_type": "markdown",
   "metadata": {},
   "source": []
  }
 ],
 "metadata": {
  "kernelspec": {
   "display_name": "base",
   "language": "python",
   "name": "python3"
  },
  "language_info": {
   "codemirror_mode": {
    "name": "ipython",
    "version": 3
   },
   "file_extension": ".py",
   "mimetype": "text/x-python",
   "name": "python",
   "nbconvert_exporter": "python",
   "pygments_lexer": "ipython3",
   "version": "3.12.7"
  }
 },
 "nbformat": 4,
 "nbformat_minor": 2
}
